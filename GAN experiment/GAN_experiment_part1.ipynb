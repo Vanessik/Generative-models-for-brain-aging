{
 "cells": [
  {
   "cell_type": "markdown",
   "metadata": {
    "id": "1clSPxS_Z335"
   },
   "source": [
    "### Preparation"
   ]
  },
  {
   "cell_type": "code",
   "execution_count": 1,
   "metadata": {
    "id": "NLbtv3VeaNvg"
   },
   "outputs": [],
   "source": [
    "import numpy as np\n",
    "import torch\n",
    "import matplotlib.pyplot as plt\n",
    "% matplotlib inline"
   ]
  },
  {
   "cell_type": "code",
   "execution_count": 2,
   "metadata": {
    "colab": {
     "base_uri": "https://localhost:8080/"
    },
    "id": "hS4uSxwWaDLe",
    "outputId": "de94d1bc-8ba8-44c0-a7d7-0d4664b72bc0"
   },
   "outputs": [
    {
     "name": "stdout",
     "output_type": "stream",
     "text": [
      "Mounted at /content/drive\n"
     ]
    }
   ],
   "source": [
    "#from google.colab import drive\n",
    "#drive.mount('/content/drive')"
   ]
  },
  {
   "cell_type": "markdown",
   "metadata": {
    "id": "SK2WtMb8zWo7"
   },
   "source": [
    "In this notebook we are trying to train a good GAN on 3D MRI of brains, following https://arxiv.org/abs/2101.07563. We use GAN instead of StyleGAN, because all of the data is made on the same equipement, so there is no need to learn style. After that, a ResNet-like encoder is trained to learn an inverse mapping to the trained generator."
   ]
  },
  {
   "cell_type": "markdown",
   "metadata": {
    "id": "5a4F5SCTciqk"
   },
   "source": [
    "### Preparing data"
   ]
  },
  {
   "cell_type": "code",
   "execution_count": 3,
   "metadata": {
    "id": "8woq_6RddQpT"
   },
   "outputs": [],
   "source": [
    "import torch.utils.data as torch_data\n",
    "from torchvision.utils import save_image\n",
    "import torch.optim as optim\n",
    "from torch import nn\n",
    "from torch.autograd import Variable\n",
    "import random\n",
    "from sklearn.model_selection import train_test_split\n",
    "from skimage.transform import resize\n",
    "from tqdm import tqdm"
   ]
  },
  {
   "cell_type": "code",
   "execution_count": null,
   "metadata": {
    "id": "uoVJ_HWoe0Fs"
   },
   "outputs": [],
   "source": [
    "manualSeed = 42\n",
    "\n",
    "random.seed(manualSeed)\n",
    "torch.manual_seed(manualSeed);"
   ]
  },
  {
   "cell_type": "code",
   "execution_count": null,
   "metadata": {
    "id": "KeyG1OWrc50d"
   },
   "outputs": [],
   "source": [
    "mri_data = np.load('tensors.npy')\n",
    "age_labels = np.load('age.npy')\n",
    "\n",
    "batch_size = 10"
   ]
  },
  {
   "cell_type": "code",
   "execution_count": null,
   "metadata": {
    "id": "QA-ams_kfCDE"
   },
   "outputs": [],
   "source": [
    "class MRIData(torch_data.Dataset):\n",
    "    def __init__(self, X, y):\n",
    "        super(MRIData, self).__init__()\n",
    "        self.X = X\n",
    "        self.y = y\n",
    "    \n",
    "        data_min = self.X.min(axis=(2, 3, 4))\n",
    "        data_max = self.X.max(axis=(2, 3, 4))\n",
    "        data_max[data_max == 0.] = 1.\n",
    "        dif = data_max - data_min\n",
    "\n",
    "        self.X = (self.X - data_min[..., None, None, None]) / dif[..., None, None, None]\n",
    "\n",
    "    def __len__(self):\n",
    "\n",
    "        return len(self.X)\n",
    "    \n",
    "    def __getitem__(self, idx):\n",
    "\n",
    "        return self.X[idx], self.y[idx]"
   ]
  },
  {
   "cell_type": "code",
   "execution_count": null,
   "metadata": {
    "id": "rbNs6yJO1NvE"
   },
   "outputs": [],
   "source": [
    "mri_data = np.pad(mri_data, ((0, 0), (6, 6), (0, 0), (6, 6)))\n",
    "mri_data = mri_data.reshape(-1, 1, 70, 70, 70)"
   ]
  },
  {
   "cell_type": "code",
   "execution_count": null,
   "metadata": {
    "id": "dVDvrs56gOWu"
   },
   "outputs": [],
   "source": [
    "train_dset = MRIData(mri_data, age_labels)\n",
    "\n",
    "loader = torch_data.DataLoader(train_dset, batch_size=batch_size, shuffle=True) "
   ]
  },
  {
   "cell_type": "markdown",
   "metadata": {
    "id": "2U2MkXadjX6H"
   },
   "source": [
    "### Train simple GAN on 3D MRI data"
   ]
  },
  {
   "cell_type": "code",
   "execution_count": null,
   "metadata": {},
   "outputs": [],
   "source": [
    "from models import Generator3D_Adaptive, Discriminator3D_Adaptive"
   ]
  },
  {
   "cell_type": "code",
   "execution_count": null,
   "metadata": {
    "id": "TSlSNqprdNtV"
   },
   "outputs": [],
   "source": [
    "device = torch.device('cuda:0' if torch.cuda.is_available() else 'cpu')"
   ]
  },
  {
   "cell_type": "code",
   "execution_count": null,
   "metadata": {
    "id": "EEDBdJMZJhYY"
   },
   "outputs": [],
   "source": [
    "Tensor = torch.cuda.FloatTensor if device == torch.device('cuda:0') else torch.FloatTensor\n",
    "latent_dim = 100\n",
    "n_epochs = 10"
   ]
  },
  {
   "cell_type": "code",
   "execution_count": null,
   "metadata": {
    "id": "P4B-O9eOpGae"
   },
   "outputs": [],
   "source": [
    "import matplotlib.image as mpimg\n",
    "\n",
    "def train_gan(threshold, n_epochs=10, latent_dim=100):\n",
    "  \n",
    "  G = Generator3D_Adaptive()\n",
    "  D = Discriminator3D_Adaptive()\n",
    "\n",
    "  #G.load_state_dict(torch.load('2_0.0checkpointG.pth'))\n",
    "  #D.load_state_dict(torch.load('2_0.0checkpointD.pth'))\n",
    "\n",
    "  device = torch.device('cuda:0' if torch.cuda.is_available() else 'cpu')\n",
    "  G.to(device);\n",
    "  D.to(device);\n",
    "\n",
    "  optimizer_G = torch.optim.Adam(G.parameters(), lr=5e-5, betas=(0.5, 0.999))\n",
    "  optimizer_D = torch.optim.Adam(D.parameters(), lr=5e-5, betas=(0.5, 0.999))\n",
    "  adversarial_loss = torch.nn.BCELoss()\n",
    "\n",
    "  for epoch in range(n_epochs):\n",
    "\n",
    "      d_losses = []\n",
    "      g_losses = []\n",
    "\n",
    "      for i, (imgs, _) in enumerate(loader):\n",
    "\n",
    "          # Adversarial ground truths\n",
    "          valid = Variable(Tensor(imgs.size(0), 1).fill_(1.0), requires_grad=False)\n",
    "          fake = Variable(Tensor(imgs.size(0), 1).fill_(0.0), requires_grad=False)\n",
    "\n",
    "          # Configure input\n",
    "          imgs = resize(imgs, (imgs.shape[0], 1, 64, 64, 64))\n",
    "          imgs = torch.tensor(imgs, dtype=torch.float32)\n",
    "          real_imgs = Variable(imgs.type(Tensor))\n",
    "\n",
    "          # -----------------\n",
    "          #  Train Generator\n",
    "          # -----------------\n",
    "\n",
    "          p = np.random.rand()\n",
    "\n",
    "\n",
    "          optimizer_G.zero_grad()\n",
    "\n",
    "            # Sample noise as generator input\n",
    "          z = Variable(Tensor(np.random.uniform(0, 1, (imgs.shape[0], latent_dim))))\n",
    "\n",
    "            # Generate a batch of images\n",
    "          gen_imgs = G(z)\n",
    "\n",
    "\n",
    "          if p > threshold:\n",
    "              \n",
    "            # Loss measures generator's ability to fool the discriminator\n",
    "            g_loss = adversarial_loss(D(gen_imgs), valid)\n",
    "            g_losses.append(g_loss.item())\n",
    "            g_loss.backward()\n",
    "            optimizer_G.step()\n",
    "\n",
    "          # ---------------------\n",
    "          #  Train Discriminator\n",
    "          # ---------------------\n",
    "\n",
    "          optimizer_D.zero_grad()\n",
    "\n",
    "          # Measure discriminator's ability to classify real from generated samples\n",
    "          real_loss = adversarial_loss(D(real_imgs), valid)\n",
    "          fake_loss = adversarial_loss(D(gen_imgs.detach()), fake)\n",
    "          d_loss = (real_loss + fake_loss) / 2\n",
    "\n",
    "          d_loss.backward()\n",
    "          optimizer_D.step()\n",
    "\n",
    "          batches_done = epoch * len(loader) + i\n",
    "\n",
    "          d_losses.append(d_loss.item())\n",
    "\n",
    "          if batches_done % 20 == 0:\n",
    "            print(\n",
    "                \"[Epoch %d/%d] [Batch %d/%d] [D loss: %f] [G loss: %f]\"\n",
    "                % (epoch, n_epochs, i, len(loader), np.array(d_losses).mean(), np.array(g_losses).mean())\n",
    "            )\n",
    "\n",
    "            d_losses = []\n",
    "            g_losses = []\n",
    "\n",
    "      #if epoch % 2 == 0:\n",
    "          #torch.save(D.state_dict(), '/content/drive/MyDrive/GAN_project/final_checkpointD.pth')\n",
    "          #torch.save(G.state_dict(), '/content/drive/MyDrive/GAN_project/final_checkpointG.pth')\n",
    "\n",
    "          #img = gen_imgs.cpu().detach().numpy()[0, 0, 30, :, :]\n",
    "          #mpimg.imsave(\"/content/drive/MyDrive/GAN_project/final_images/fake_img{e}.png\".format(e=epoch), img)"
   ]
  },
  {
   "cell_type": "code",
   "execution_count": null,
   "metadata": {
    "colab": {
     "base_uri": "https://localhost:8080/"
    },
    "id": "gXnoTJNJpOrW",
    "outputId": "b890474c-f51c-4d4d-e0b0-89d797f89ca2"
   },
   "outputs": [
    {
     "name": "stdout",
     "output_type": "stream",
     "text": [
      "[Epoch 0/10] [Batch 0/112] [D loss: 1.847627] [G loss: 0.025438]\n",
      "[Epoch 0/10] [Batch 20/112] [D loss: 0.145859] [G loss: 2.341517]\n",
      "[Epoch 0/10] [Batch 40/112] [D loss: 0.181037] [G loss: 2.929877]\n",
      "[Epoch 0/10] [Batch 60/112] [D loss: 0.194085] [G loss: 2.858992]\n",
      "[Epoch 0/10] [Batch 80/112] [D loss: 0.240857] [G loss: 2.553231]\n",
      "[Epoch 0/10] [Batch 100/112] [D loss: 0.246352] [G loss: 2.659624]\n",
      "[Epoch 1/10] [Batch 8/112] [D loss: 0.107261] [G loss: 2.346471]\n",
      "[Epoch 1/10] [Batch 28/112] [D loss: 0.250807] [G loss: 2.298631]\n",
      "[Epoch 1/10] [Batch 48/112] [D loss: 0.435725] [G loss: 2.081704]\n",
      "[Epoch 1/10] [Batch 68/112] [D loss: 0.233728] [G loss: 2.391595]\n",
      "[Epoch 1/10] [Batch 88/112] [D loss: 0.430149] [G loss: 1.619345]\n",
      "[Epoch 1/10] [Batch 108/112] [D loss: 0.396962] [G loss: 1.953115]\n",
      "[Epoch 2/10] [Batch 16/112] [D loss: 0.259441] [G loss: 2.192727]\n",
      "[Epoch 2/10] [Batch 36/112] [D loss: 0.359329] [G loss: 2.187941]\n",
      "[Epoch 2/10] [Batch 56/112] [D loss: 0.351285] [G loss: 2.208411]\n",
      "[Epoch 2/10] [Batch 76/112] [D loss: 0.327570] [G loss: 1.959695]\n",
      "[Epoch 2/10] [Batch 96/112] [D loss: 0.349784] [G loss: 2.135937]\n",
      "[Epoch 3/10] [Batch 4/112] [D loss: 0.360958] [G loss: 2.291444]\n",
      "[Epoch 3/10] [Batch 24/112] [D loss: 0.361654] [G loss: 2.063424]\n",
      "[Epoch 3/10] [Batch 44/112] [D loss: 0.412075] [G loss: 1.938653]\n",
      "[Epoch 3/10] [Batch 64/112] [D loss: 0.289244] [G loss: 1.891084]\n",
      "[Epoch 3/10] [Batch 84/112] [D loss: 0.469286] [G loss: 2.006781]\n",
      "[Epoch 3/10] [Batch 104/112] [D loss: 0.338439] [G loss: 2.079736]\n",
      "[Epoch 4/10] [Batch 12/112] [D loss: 0.375351] [G loss: 2.002210]\n",
      "[Epoch 4/10] [Batch 32/112] [D loss: 0.326878] [G loss: 2.002078]\n",
      "[Epoch 4/10] [Batch 52/112] [D loss: 0.416492] [G loss: 2.071933]\n",
      "[Epoch 4/10] [Batch 72/112] [D loss: 0.363696] [G loss: 2.005167]\n",
      "[Epoch 4/10] [Batch 92/112] [D loss: 0.363197] [G loss: 1.916012]\n",
      "[Epoch 5/10] [Batch 0/112] [D loss: 0.288796] [G loss: 1.614923]\n",
      "[Epoch 5/10] [Batch 20/112] [D loss: 0.371481] [G loss: 1.818348]\n",
      "[Epoch 5/10] [Batch 40/112] [D loss: 0.352631] [G loss: 1.826703]\n",
      "[Epoch 5/10] [Batch 60/112] [D loss: 0.421970] [G loss: 1.834288]\n",
      "[Epoch 5/10] [Batch 80/112] [D loss: 0.356179] [G loss: 1.868933]\n",
      "[Epoch 5/10] [Batch 100/112] [D loss: 0.413469] [G loss: 1.793646]\n",
      "[Epoch 6/10] [Batch 8/112] [D loss: 0.369287] [G loss: 1.879798]\n",
      "[Epoch 6/10] [Batch 28/112] [D loss: 0.452101] [G loss: 1.797855]\n",
      "[Epoch 6/10] [Batch 48/112] [D loss: 0.370967] [G loss: 1.824509]\n",
      "[Epoch 6/10] [Batch 68/112] [D loss: 0.409153] [G loss: 1.969732]\n",
      "[Epoch 6/10] [Batch 88/112] [D loss: 0.393030] [G loss: 1.716219]\n",
      "[Epoch 6/10] [Batch 108/112] [D loss: 0.378521] [G loss: 1.968191]\n",
      "[Epoch 7/10] [Batch 16/112] [D loss: 0.381250] [G loss: 1.757349]\n",
      "[Epoch 7/10] [Batch 36/112] [D loss: 0.465780] [G loss: 2.041469]\n",
      "[Epoch 7/10] [Batch 56/112] [D loss: 0.451441] [G loss: 1.731834]\n",
      "[Epoch 7/10] [Batch 76/112] [D loss: 0.409831] [G loss: 1.774404]\n",
      "[Epoch 7/10] [Batch 96/112] [D loss: 0.340001] [G loss: 1.735536]\n",
      "[Epoch 8/10] [Batch 4/112] [D loss: 0.380249] [G loss: 1.307290]\n",
      "[Epoch 8/10] [Batch 24/112] [D loss: 0.388598] [G loss: 1.906462]\n",
      "[Epoch 8/10] [Batch 44/112] [D loss: 0.382099] [G loss: 1.862407]\n",
      "[Epoch 8/10] [Batch 64/112] [D loss: 0.380352] [G loss: 1.764157]\n",
      "[Epoch 8/10] [Batch 84/112] [D loss: 0.341188] [G loss: 1.820974]\n",
      "[Epoch 8/10] [Batch 104/112] [D loss: 0.510911] [G loss: 1.882250]\n",
      "[Epoch 9/10] [Batch 12/112] [D loss: 0.416722] [G loss: 1.505474]\n",
      "[Epoch 9/10] [Batch 32/112] [D loss: 0.361608] [G loss: 1.911697]\n",
      "[Epoch 9/10] [Batch 52/112] [D loss: 0.341503] [G loss: 1.776610]\n",
      "[Epoch 9/10] [Batch 72/112] [D loss: 0.400833] [G loss: 2.011669]\n",
      "[Epoch 9/10] [Batch 92/112] [D loss: 0.424340] [G loss: 1.820814]\n",
      "[Epoch 0/10] [Batch 0/112] [D loss: 1.842269] [G loss: 0.025916]\n",
      "[Epoch 0/10] [Batch 20/112] [D loss: 0.135631] [G loss: 2.449659]\n",
      "[Epoch 0/10] [Batch 40/112] [D loss: 0.202727] [G loss: 2.908777]\n",
      "[Epoch 0/10] [Batch 60/112] [D loss: 0.132680] [G loss: 2.723320]\n",
      "[Epoch 0/10] [Batch 80/112] [D loss: 0.178565] [G loss: 2.998345]\n",
      "[Epoch 0/10] [Batch 100/112] [D loss: 0.317539] [G loss: 2.740059]\n",
      "[Epoch 1/10] [Batch 8/112] [D loss: 0.409906] [G loss: 2.541036]\n",
      "[Epoch 1/10] [Batch 28/112] [D loss: 0.134188] [G loss: 2.417452]\n",
      "[Epoch 1/10] [Batch 48/112] [D loss: 0.305682] [G loss: 2.765899]\n",
      "[Epoch 1/10] [Batch 68/112] [D loss: 0.181052] [G loss: 2.686944]\n",
      "[Epoch 1/10] [Batch 88/112] [D loss: 0.469561] [G loss: 1.924315]\n",
      "[Epoch 1/10] [Batch 108/112] [D loss: 0.355680] [G loss: 1.453560]\n",
      "[Epoch 2/10] [Batch 16/112] [D loss: 0.347020] [G loss: 1.588078]\n",
      "[Epoch 2/10] [Batch 36/112] [D loss: 0.396981] [G loss: 2.120867]\n",
      "[Epoch 2/10] [Batch 56/112] [D loss: 0.259182] [G loss: 1.979098]\n",
      "[Epoch 2/10] [Batch 76/112] [D loss: 0.339617] [G loss: 2.379569]\n",
      "[Epoch 2/10] [Batch 96/112] [D loss: 0.368792] [G loss: 2.083622]\n",
      "[Epoch 3/10] [Batch 4/112] [D loss: 0.216299] [G loss: 2.013498]\n",
      "[Epoch 3/10] [Batch 24/112] [D loss: 0.373011] [G loss: 1.974719]\n",
      "[Epoch 3/10] [Batch 44/112] [D loss: 0.319745] [G loss: 2.164867]\n",
      "[Epoch 3/10] [Batch 64/112] [D loss: 0.326498] [G loss: 2.128206]\n",
      "[Epoch 3/10] [Batch 84/112] [D loss: 0.346106] [G loss: 2.153186]\n",
      "[Epoch 3/10] [Batch 104/112] [D loss: 0.403477] [G loss: 2.165728]\n",
      "[Epoch 4/10] [Batch 12/112] [D loss: 0.374486] [G loss: 2.302459]\n",
      "[Epoch 4/10] [Batch 32/112] [D loss: 0.341190] [G loss: 2.084761]\n",
      "[Epoch 4/10] [Batch 52/112] [D loss: 0.336049] [G loss: 2.039035]\n",
      "[Epoch 4/10] [Batch 72/112] [D loss: 0.367190] [G loss: 2.086107]\n",
      "[Epoch 4/10] [Batch 92/112] [D loss: 0.270419] [G loss: 2.557483]\n",
      "[Epoch 5/10] [Batch 0/112] [D loss: 0.283544] [G loss: 2.102718]\n",
      "[Epoch 5/10] [Batch 20/112] [D loss: 0.367946] [G loss: 2.125661]\n",
      "[Epoch 5/10] [Batch 40/112] [D loss: 0.386662] [G loss: 2.015871]\n",
      "[Epoch 5/10] [Batch 60/112] [D loss: 0.399439] [G loss: 2.400067]\n",
      "[Epoch 5/10] [Batch 80/112] [D loss: 0.337172] [G loss: 2.018363]\n",
      "[Epoch 5/10] [Batch 100/112] [D loss: 0.469550] [G loss: 1.898746]\n",
      "[Epoch 6/10] [Batch 8/112] [D loss: 0.367381] [G loss: 2.250454]\n",
      "[Epoch 6/10] [Batch 28/112] [D loss: 0.353033] [G loss: 1.919730]\n",
      "[Epoch 6/10] [Batch 48/112] [D loss: 0.247440] [G loss: 2.608748]\n",
      "[Epoch 6/10] [Batch 68/112] [D loss: 0.365415] [G loss: 1.892356]\n",
      "[Epoch 6/10] [Batch 88/112] [D loss: 0.375306] [G loss: 2.055328]\n",
      "[Epoch 6/10] [Batch 108/112] [D loss: 0.389326] [G loss: 1.845085]\n",
      "[Epoch 7/10] [Batch 16/112] [D loss: 0.319381] [G loss: 1.835993]\n",
      "[Epoch 7/10] [Batch 36/112] [D loss: 0.468761] [G loss: 2.244838]\n",
      "[Epoch 7/10] [Batch 56/112] [D loss: 0.329835] [G loss: 1.972613]\n",
      "[Epoch 7/10] [Batch 76/112] [D loss: 0.432820] [G loss: 1.972137]\n",
      "[Epoch 7/10] [Batch 96/112] [D loss: 0.349891] [G loss: 2.126565]\n",
      "[Epoch 8/10] [Batch 4/112] [D loss: 0.289960] [G loss: 1.829157]\n",
      "[Epoch 8/10] [Batch 24/112] [D loss: 0.305249] [G loss: 2.231136]\n",
      "[Epoch 8/10] [Batch 44/112] [D loss: 0.363740] [G loss: 2.338002]\n",
      "[Epoch 8/10] [Batch 64/112] [D loss: 0.295962] [G loss: 1.934818]\n",
      "[Epoch 8/10] [Batch 84/112] [D loss: 0.413378] [G loss: 1.975029]\n",
      "[Epoch 8/10] [Batch 104/112] [D loss: 0.427836] [G loss: 2.154988]\n",
      "[Epoch 9/10] [Batch 12/112] [D loss: 0.255701] [G loss: 1.720641]\n",
      "[Epoch 9/10] [Batch 32/112] [D loss: 0.299845] [G loss: 2.260600]\n",
      "[Epoch 9/10] [Batch 52/112] [D loss: 0.337878] [G loss: 2.202368]\n",
      "[Epoch 9/10] [Batch 72/112] [D loss: 0.263914] [G loss: 1.945829]\n",
      "[Epoch 9/10] [Batch 92/112] [D loss: 0.339510] [G loss: 2.316873]\n"
     ]
    },
    {
     "name": "stderr",
     "output_type": "stream",
     "text": [
      "/usr/local/lib/python3.7/dist-packages/ipykernel_launcher.py:80: RuntimeWarning: Mean of empty slice.\n",
      "/usr/local/lib/python3.7/dist-packages/numpy/core/_methods.py:170: RuntimeWarning: invalid value encountered in double_scalars\n",
      "  ret = ret.dtype.type(ret / rcount)\n"
     ]
    },
    {
     "name": "stdout",
     "output_type": "stream",
     "text": [
      "[Epoch 0/10] [Batch 0/112] [D loss: 1.845965] [G loss: nan]\n",
      "[Epoch 0/10] [Batch 20/112] [D loss: 0.111762] [G loss: 2.849666]\n",
      "[Epoch 0/10] [Batch 40/112] [D loss: 0.114449] [G loss: 3.768405]\n",
      "[Epoch 0/10] [Batch 60/112] [D loss: 0.097501] [G loss: 3.170372]\n",
      "[Epoch 0/10] [Batch 80/112] [D loss: 0.033103] [G loss: 3.658121]\n",
      "[Epoch 0/10] [Batch 100/112] [D loss: 0.331809] [G loss: 3.722197]\n",
      "[Epoch 1/10] [Batch 8/112] [D loss: 0.235600] [G loss: 2.136724]\n",
      "[Epoch 1/10] [Batch 28/112] [D loss: 0.226762] [G loss: 2.432787]\n",
      "[Epoch 1/10] [Batch 48/112] [D loss: 0.316159] [G loss: 2.729505]\n",
      "[Epoch 1/10] [Batch 68/112] [D loss: 0.197095] [G loss: 2.110570]\n",
      "[Epoch 1/10] [Batch 88/112] [D loss: 0.311318] [G loss: 2.456395]\n",
      "[Epoch 1/10] [Batch 108/112] [D loss: 0.213526] [G loss: 2.056299]\n",
      "[Epoch 2/10] [Batch 16/112] [D loss: 0.234622] [G loss: 2.561251]\n",
      "[Epoch 2/10] [Batch 36/112] [D loss: 0.316901] [G loss: 3.086347]\n",
      "[Epoch 2/10] [Batch 56/112] [D loss: 0.176671] [G loss: 2.550314]\n",
      "[Epoch 2/10] [Batch 76/112] [D loss: 0.304105] [G loss: 3.118128]\n",
      "[Epoch 2/10] [Batch 96/112] [D loss: 0.147329] [G loss: 2.700966]\n",
      "[Epoch 3/10] [Batch 4/112] [D loss: 0.113977] [G loss: 2.833669]\n",
      "[Epoch 3/10] [Batch 24/112] [D loss: 0.379804] [G loss: 2.278859]\n",
      "[Epoch 3/10] [Batch 44/112] [D loss: 0.238817] [G loss: 2.783577]\n",
      "[Epoch 3/10] [Batch 64/112] [D loss: 0.280596] [G loss: 2.006277]\n",
      "[Epoch 3/10] [Batch 84/112] [D loss: 0.253069] [G loss: 2.872949]\n",
      "[Epoch 3/10] [Batch 104/112] [D loss: 0.296523] [G loss: 2.652881]\n",
      "[Epoch 4/10] [Batch 12/112] [D loss: 0.140149] [G loss: 2.343213]\n",
      "[Epoch 4/10] [Batch 32/112] [D loss: 0.336996] [G loss: 2.422446]\n",
      "[Epoch 4/10] [Batch 52/112] [D loss: 0.297884] [G loss: 1.977845]\n",
      "[Epoch 4/10] [Batch 72/112] [D loss: 0.356607] [G loss: 1.992631]\n",
      "[Epoch 4/10] [Batch 92/112] [D loss: 0.230180] [G loss: 2.869504]\n",
      "[Epoch 5/10] [Batch 0/112] [D loss: 0.049011] [G loss: 2.694554]\n",
      "[Epoch 5/10] [Batch 20/112] [D loss: 0.205688] [G loss: 2.825908]\n",
      "[Epoch 5/10] [Batch 40/112] [D loss: 0.237988] [G loss: 3.398297]\n",
      "[Epoch 5/10] [Batch 60/112] [D loss: 0.321992] [G loss: 2.066734]\n",
      "[Epoch 5/10] [Batch 80/112] [D loss: 0.237973] [G loss: 3.112252]\n",
      "[Epoch 5/10] [Batch 100/112] [D loss: 0.258587] [G loss: 2.966481]\n",
      "[Epoch 6/10] [Batch 8/112] [D loss: 0.186810] [G loss: 1.947829]\n",
      "[Epoch 6/10] [Batch 28/112] [D loss: 0.292460] [G loss: 2.511548]\n",
      "[Epoch 6/10] [Batch 48/112] [D loss: 0.302190] [G loss: 2.422100]\n",
      "[Epoch 6/10] [Batch 68/112] [D loss: 0.236458] [G loss: 3.142237]\n",
      "[Epoch 6/10] [Batch 88/112] [D loss: 0.275754] [G loss: 2.841632]\n",
      "[Epoch 6/10] [Batch 108/112] [D loss: 0.423473] [G loss: 2.318675]\n",
      "[Epoch 7/10] [Batch 16/112] [D loss: 0.418333] [G loss: 2.628004]\n",
      "[Epoch 7/10] [Batch 36/112] [D loss: 0.191952] [G loss: 2.771800]\n",
      "[Epoch 7/10] [Batch 56/112] [D loss: 0.138481] [G loss: 3.654680]\n",
      "[Epoch 7/10] [Batch 76/112] [D loss: 0.275292] [G loss: 2.764642]\n",
      "[Epoch 7/10] [Batch 96/112] [D loss: 0.300830] [G loss: 3.202150]\n",
      "[Epoch 8/10] [Batch 4/112] [D loss: 0.147525] [G loss: 2.094163]\n",
      "[Epoch 8/10] [Batch 24/112] [D loss: 0.300232] [G loss: 2.475329]\n",
      "[Epoch 8/10] [Batch 44/112] [D loss: 0.342382] [G loss: 2.295614]\n",
      "[Epoch 8/10] [Batch 64/112] [D loss: 0.266975] [G loss: 2.056942]\n",
      "[Epoch 8/10] [Batch 84/112] [D loss: 0.187475] [G loss: 2.373182]\n",
      "[Epoch 8/10] [Batch 104/112] [D loss: 0.276531] [G loss: 2.541017]\n",
      "[Epoch 9/10] [Batch 12/112] [D loss: 0.465210] [G loss: 2.625299]\n",
      "[Epoch 9/10] [Batch 32/112] [D loss: 0.112893] [G loss: 2.835876]\n",
      "[Epoch 9/10] [Batch 52/112] [D loss: 0.252204] [G loss: 2.369171]\n",
      "[Epoch 9/10] [Batch 72/112] [D loss: 0.285865] [G loss: 2.703646]\n",
      "[Epoch 9/10] [Batch 92/112] [D loss: 0.275497] [G loss: 2.370574]\n"
     ]
    }
   ],
   "source": [
    "for threshold in [0.0, 0.1, 0.3]:\n",
    "  train_gan(threshold=threshold)"
   ]
  },
  {
   "cell_type": "markdown",
   "metadata": {
    "id": "vtcSNnTvtrtm"
   },
   "source": [
    "Since training a stable GAN is not an easy task, I used parameter p to control the probability, with with the optimizer of discriminator makes step, so the discriminator won't be too smart for the generator and it won't learn to generate some noise. But I don't know, which value of p whould be optimal, so I tried different, saved the corresponding models, then choosed the best one by visual estimation of the generator output, and continued to learn it."
   ]
  },
  {
   "cell_type": "markdown",
   "metadata": {
    "id": "eAzuarzcRAW5"
   },
   "source": [
    "### Creating synthetic dataset $(w_i, G(w_i))$, where w_i - random latent representation"
   ]
  },
  {
   "cell_type": "code",
   "execution_count": null,
   "metadata": {
    "id": "PFz94ZOxNrD4"
   },
   "outputs": [],
   "source": [
    "def create_synthetic_data(generator, n_samples, path_to_data, path_to_latent):\n",
    "  fake_data = []\n",
    "  latent_repr = []\n",
    "\n",
    "  for i in tqdm(range(n_samples)):\n",
    "     z = Variable(Tensor(np.random.uniform(0, 1, (1, latent_dim))))\n",
    "     gen_imgs = generator(z).reshape(64, 64, 64)\n",
    "     fake_data.append(gen_imgs.cpu().detach().numpy())\n",
    "     latent_repr.append(z.cpu().detach().numpy()[0, :])\n",
    "\n",
    "  np.save(path_to_data, np.array(fake_data))\n",
    "  np.save(path_to_latent, np.array(latent_repr))\n",
    "  return np.array(fake_data), np.array(latent_repr)"
   ]
  },
  {
   "cell_type": "code",
   "execution_count": null,
   "metadata": {
    "id": "s9EELwuv7v0X"
   },
   "outputs": [],
   "source": [
    "G = Generator3D_Adaptive()\n",
    "G.load_state_dict(torch.load('generator_checkpoint.pth'))\n",
    "G.to(device)\n",
    "G.eval();"
   ]
  },
  {
   "cell_type": "code",
   "execution_count": 5,
   "metadata": {
    "id": "KamXVQh4OIKu"
   },
   "outputs": [],
   "source": [
    "fake_data, latent_repr = create_synthetic_data(G, 2000, 'fake_data.npy',\n",
    "                                                'latent_repr.npy')"
   ]
  },
  {
   "cell_type": "code",
   "execution_count": 5,
   "metadata": {
    "colab": {
     "base_uri": "https://localhost:8080/"
    },
    "id": "03hvWs9HPOkU",
    "outputId": "b9ce07dd-48f7-4f5a-c629-542648bafa70"
   },
   "outputs": [
    {
     "name": "stdout",
     "output_type": "stream",
     "text": [
      "(2000, 64, 64, 64) (2000, 100)\n"
     ]
    }
   ],
   "source": [
    "fake_data = np.load('fake_data.npy')\n",
    "latent_repr = np.load('latent_repr.npy')\n",
    "print(fake_data.shape, latent_repr.shape)"
   ]
  },
  {
   "cell_type": "code",
   "execution_count": null,
   "metadata": {
    "colab": {
     "base_uri": "https://localhost:8080/",
     "height": 247
    },
    "id": "cFJhgQFHUuiO",
    "outputId": "7aae033e-be23-4ada-f6fd-47aa5414d590"
   },
   "outputs": [
    {
     "data": {
      "image/png": "[encoded data removed]",
      "text/plain": [
       "<Figure size 864x288 with 3 Axes>"
      ]
     },
     "metadata": {
      "tags": []
     },
     "output_type": "display_data"
    }
   ],
   "source": [
    "import nibabel\n",
    "from utils import plot_central_cuts, Fake_MRIData\n",
    "\n",
    "plot_central_cuts(fake_data[0, ...])"
   ]
  },
  {
   "cell_type": "markdown",
   "metadata": {
    "id": "SGjDKQVeVbKr"
   },
   "source": [
    "### Learning autoencoder on $(w_i, G(w_i))$"
   ]
  },
  {
   "cell_type": "code",
   "execution_count": 7,
   "metadata": {
    "id": "E3MdqECTuu4p"
   },
   "outputs": [],
   "source": [
    "data_train, data_val, latent_train, latent_val = train_test_split(fake_data, latent_repr,\n",
    "                                                                 test_size=0.2, random_state=42)\n",
    "\n",
    "train_dset = Fake_MRIData(data_train, latent_train)\n",
    "val_dset = Fake_MRIData(data_val, latent_val)\n",
    "\n",
    "train_loader = torch_data.DataLoader(train_dset, batch_size=5, shuffle=True)\n",
    "val_loader = torch_data.DataLoader(val_dset, batch_size=5, shuffle=True) "
   ]
  },
  {
   "cell_type": "code",
   "execution_count": 11,
   "metadata": {
    "id": "yu1xLfZ713OU"
   },
   "outputs": [],
   "source": [
    "from models import Encoder\n",
    "\n",
    "encoder = Encoder()\n",
    "\n",
    "device = torch.device('cuda:0' if torch.cuda.is_available() else 'cpu')\n",
    "encoder.to(device)\n",
    "\n",
    "criterion = nn.MSELoss()  \n",
    "optimizer = torch.optim.Adam(encoder.parameters(), lr=1e-4)"
   ]
  },
  {
   "cell_type": "code",
   "execution_count": 12,
   "metadata": {
    "id": "S7E3Hcg1EYlS"
   },
   "outputs": [],
   "source": [
    "def train_encoder(encoder, criterion, opt, train_loader, val_loader, scheduler=None, n_epochs=50):\n",
    "\n",
    "  for epoch in range(n_epochs):\n",
    "    \n",
    "    encoder.train()\n",
    "    losses_train = []\n",
    "    losses_val = []\n",
    "\n",
    "    for X, latent_repr in train_loader:\n",
    "      X, latent_repr = X.to(device), latent_repr.to(device)\n",
    "\n",
    "      optimizer.zero_grad()\n",
    "      output = encoder(X)\n",
    "      loss = criterion(latent_repr, output)\n",
    "      losses_train.append(loss.detach().cpu().numpy())\n",
    "\n",
    "      loss.backward()\n",
    "      optimizer.step()\n",
    "\n",
    "    encoder.eval()\n",
    "    for X, latent_repr in val_loader:\n",
    "\n",
    "      X, latent_repr = X.to(device), latent_repr.to(device)\n",
    "      output = encoder(X)\n",
    "      loss = criterion(latent_repr, output)\n",
    "      losses_val.append(loss.detach().cpu().numpy())\n",
    "\n",
    "    if scheduler is not None:\n",
    "      scheduler.step()\n",
    "\n",
    "    if epoch % 1 == 0:\n",
    "      mean_val = sum(losses_val)/len(losses_val)\n",
    "      mean_train = sum(losses_train)/len(losses_train)\n",
    "\n",
    "      print('Epoch {}/{} || Loss:  Train {:.4f} | Validation {:.4f}'\\\n",
    "                  .format(epoch, n_epochs, mean_train, mean_val))\n",
    "      \n",
    "      #torch.save(encoder.state_dict(), '/content/drive/MyDrive/GAN_project/encoder_checkpoint.pth')"
   ]
  },
  {
   "cell_type": "code",
   "execution_count": 13,
   "metadata": {
    "colab": {
     "base_uri": "https://localhost:8080/"
    },
    "id": "eL4goMRoGj5z",
    "outputId": "cf666ff7-2368-4d86-da07-0d95622c3230"
   },
   "outputs": [
    {
     "name": "stdout",
     "output_type": "stream",
     "text": [
      "Epoch 0/50 || Loss:  Train 0.1379 | Validation 0.0906\n",
      "Epoch 1/50 || Loss:  Train 0.0903 | Validation 0.0880\n",
      "Epoch 2/50 || Loss:  Train 0.0880 | Validation 0.0880\n",
      "Epoch 3/50 || Loss:  Train 0.0869 | Validation 0.0874\n",
      "Epoch 4/50 || Loss:  Train 0.0866 | Validation 0.0870\n",
      "Epoch 5/50 || Loss:  Train 0.0864 | Validation 0.0867\n",
      "Epoch 6/50 || Loss:  Train 0.0859 | Validation 0.0860\n",
      "Epoch 7/50 || Loss:  Train 0.0852 | Validation 0.0844\n",
      "Epoch 8/50 || Loss:  Train 0.0846 | Validation 0.0861\n",
      "Epoch 9/50 || Loss:  Train 0.0836 | Validation 0.0826\n",
      "Epoch 10/50 || Loss:  Train 0.0825 | Validation 0.0810\n",
      "Epoch 11/50 || Loss:  Train 0.0805 | Validation 0.0795\n",
      "Epoch 12/50 || Loss:  Train 0.0780 | Validation 0.0764\n",
      "Epoch 13/50 || Loss:  Train 0.0736 | Validation 0.0747\n",
      "Epoch 14/50 || Loss:  Train 0.0671 | Validation 0.0665\n",
      "Epoch 15/50 || Loss:  Train 0.0555 | Validation 0.0525\n",
      "Epoch 16/50 || Loss:  Train 0.0380 | Validation 0.0333\n",
      "Epoch 17/50 || Loss:  Train 0.0204 | Validation 0.0171\n",
      "Epoch 18/50 || Loss:  Train 0.0106 | Validation 0.0096\n",
      "Epoch 19/50 || Loss:  Train 0.0067 | Validation 0.0067\n",
      "Epoch 20/50 || Loss:  Train 0.0046 | Validation 0.0062\n",
      "Epoch 21/50 || Loss:  Train 0.0039 | Validation 0.0063\n",
      "Epoch 22/50 || Loss:  Train 0.0035 | Validation 0.0055\n",
      "Epoch 23/50 || Loss:  Train 0.0031 | Validation 0.0040\n",
      "Epoch 24/50 || Loss:  Train 0.0032 | Validation 0.0081\n",
      "Epoch 25/50 || Loss:  Train 0.0031 | Validation 0.0040\n",
      "Epoch 26/50 || Loss:  Train 0.0027 | Validation 0.0040\n",
      "Epoch 27/50 || Loss:  Train 0.0029 | Validation 0.0038\n",
      "Epoch 28/50 || Loss:  Train 0.0025 | Validation 0.0050\n",
      "Epoch 29/50 || Loss:  Train 0.0026 | Validation 0.0042\n",
      "Epoch 30/50 || Loss:  Train 0.0023 | Validation 0.0037\n",
      "Epoch 31/50 || Loss:  Train 0.0022 | Validation 0.0046\n",
      "Epoch 32/50 || Loss:  Train 0.0024 | Validation 0.0037\n",
      "Epoch 33/50 || Loss:  Train 0.0022 | Validation 0.0031\n",
      "Epoch 34/50 || Loss:  Train 0.0021 | Validation 0.0031\n",
      "Epoch 35/50 || Loss:  Train 0.0021 | Validation 0.0036\n",
      "Epoch 36/50 || Loss:  Train 0.0024 | Validation 0.0032\n",
      "Epoch 37/50 || Loss:  Train 0.0019 | Validation 0.0036\n",
      "Epoch 38/50 || Loss:  Train 0.0020 | Validation 0.0027\n",
      "Epoch 39/50 || Loss:  Train 0.0016 | Validation 0.0031\n",
      "Epoch 40/50 || Loss:  Train 0.0016 | Validation 0.0030\n",
      "Epoch 41/50 || Loss:  Train 0.0018 | Validation 0.0025\n",
      "Epoch 42/50 || Loss:  Train 0.0015 | Validation 0.0029\n",
      "Epoch 43/50 || Loss:  Train 0.0019 | Validation 0.0034\n",
      "Epoch 44/50 || Loss:  Train 0.0018 | Validation 0.0031\n",
      "Epoch 45/50 || Loss:  Train 0.0014 | Validation 0.0024\n",
      "Epoch 46/50 || Loss:  Train 0.0014 | Validation 0.0032\n",
      "Epoch 47/50 || Loss:  Train 0.0018 | Validation 0.0025\n",
      "Epoch 48/50 || Loss:  Train 0.0015 | Validation 0.0025\n",
      "Epoch 49/50 || Loss:  Train 0.0014 | Validation 0.0030\n"
     ]
    }
   ],
   "source": [
    "train_encoder(encoder, criterion, optimizer, train_loader, val_loader)"
   ]
  }
 ],
 "metadata": {
  "accelerator": "GPU",
  "colab": {
   "collapsed_sections": [],
   "name": "Kopia_bloknota_StyleGAN_experiment_ipynb_1.ipynb",
   "provenance": [],
   "toc_visible": true
  },
  "kernelspec": {
   "display_name": "Python 3",
   "language": "python",
   "name": "python3"
  },
  "language_info": {
   "codemirror_mode": {
    "name": "ipython",
    "version": 3
   },
   "file_extension": ".py",
   "mimetype": "text/x-python",
   "name": "python",
   "nbconvert_exporter": "python",
   "pygments_lexer": "ipython3",
   "version": "3.7.10"
  }
 },
 "nbformat": 4,
 "nbformat_minor": 1
}
